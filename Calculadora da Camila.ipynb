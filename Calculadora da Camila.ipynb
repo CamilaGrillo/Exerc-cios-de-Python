{
 "cells": [
  {
   "cell_type": "code",
   "execution_count": 13,
   "id": "bfee29bd",
   "metadata": {},
   "outputs": [
    {
     "name": "stdout",
     "output_type": "stream",
     "text": [
      "\n",
      "******************* Python Calculator *******************\n",
      "\n",
      "Selecione a opção desejada: \n",
      "\n",
      "\n",
      "1 - Soma\n",
      "2 - Subtração\n",
      "3 - Multiplicação\n",
      "4 - Divisão\n",
      "\n",
      "Digite a sua opção (1/2/3/4): 1\n",
      "\n",
      " Digite o primeiro número: 2\n",
      "\n",
      " Digite o segundo número: 3\n",
      "\n",
      "\n",
      "2 + 3 = 5\n",
      "\n",
      "\n"
     ]
    }
   ],
   "source": [
    "print(\"\\n******************* Python Calculator *******************\")\n",
    "\n",
    "#Definir as condições sendo op (opções), n1 como primeiro número e n2 como segundo número\n",
    "\n",
    "def add (x,y):\n",
    "    return x + y\n",
    "def subtract (x,y):\n",
    "    return x - y\n",
    "def multiply (x,y):\n",
    "    return x * y\n",
    "def divide (x,y):\n",
    "    return x / y\n",
    "print (\"\\nSelecione a opção desejada: \\n\")\n",
    "print (\"\\n1 - Soma\\n2 - Subtração\\n3 - Multiplicação\\n4 - Divisão\\n\")\n",
    "op = input (\"Digite a sua opção (1/2/3/4): \")\n",
    "n1 = int(input (\"\\n Digite o primeiro número: \"))\n",
    "n2 = int(input (\"\\n Digite o segundo número: \"))\n",
    "if op == '1':\n",
    "    print (\"\\n\")\n",
    "    print (n1, \"+\", n2, \"=\", add(n1,n2))\n",
    "    print (\"\\n\")\n",
    "    \n",
    "elif op == '2':\n",
    "    print (\"\\n\")\n",
    "    print (n2, \"-\", n2, \"=\", subtract (n1,n2))\n",
    "    print (\"\\n\")\n",
    "    \n",
    "elif op == '3':\n",
    "    print (\"\\n\")\n",
    "    print (n2, \"*\", n2, \"=\", multiply (n1,n2))\n",
    "    print (\"\\n\")\n",
    "    \n",
    "elif op == '4':\n",
    "    print (\"\\n\")\n",
    "    print (n2, \"/\", n2, \"=\", divide (n1,n2))\n",
    "    print (\"\\n\")\n",
    "    \n",
    "else:\n",
    "    print (\"Opção inválida!\")"
   ]
  },
  {
   "cell_type": "code",
   "execution_count": null,
   "id": "c3a69e01",
   "metadata": {},
   "outputs": [],
   "source": []
  }
 ],
 "metadata": {
  "kernelspec": {
   "display_name": "Python 3 (ipykernel)",
   "language": "python",
   "name": "python3"
  },
  "language_info": {
   "codemirror_mode": {
    "name": "ipython",
    "version": 3
   },
   "file_extension": ".py",
   "mimetype": "text/x-python",
   "name": "python",
   "nbconvert_exporter": "python",
   "pygments_lexer": "ipython3",
   "version": "3.9.7"
  }
 },
 "nbformat": 4,
 "nbformat_minor": 5
}
